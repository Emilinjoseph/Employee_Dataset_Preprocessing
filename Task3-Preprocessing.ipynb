{
 "cells": [
  {
   "cell_type": "markdown",
   "id": "b33ae452",
   "metadata": {},
   "source": [
    "Objective:\n",
    "The main objective of this project is to design and implement a robust data\n",
    "preprocessing system that addresses common challenges such as missing values,\n",
    "outliers, inconsistent formatting, and noise. By performing effective data preprocessing,\n",
    "the project aims to enhance the quality, reliability, and usefulness of the data for\n",
    "machine learning.\n",
    "Dataset: Dataset for Data preprocessing\n",
    "Key Components to be fulfilled:\n",
    "Data Exploration: Explore the data, list down the unique values in each feature and find\n",
    "its length. Perform the statistical analysis and renaming of the columns.\n",
    "Data Cleaning:\n",
    "Find the missing and inappropriate values, treat them appropriately. Remove all\n",
    "duplicate rows. Find the outliers.\n",
    "● Replace the value 0 in age as NaN\n",
    "● Treat the null values in all columns using any measures(removing/ replace the\n",
    "values with mean/median/mode)\n",
    "Data Analysis:\n",
    "● Filter the data with age >40 and salary<5000\n",
    "● Plot the chart with age and salary\n",
    "● Count the number of people from each place and represent it visually\n",
    "Data Encoding:\n",
    "Convert categorical variables into numerical representations using techniques such as\n",
    "one-hot encoding, label encoding, making them suitable for analysis by machine\n",
    "learning algorithms.\n",
    "Feature Scaling:\n",
    "After the process of encoding, perform the scaling of the features using standardscaler\n",
    "and minmaxscaler."
   ]
  },
  {
   "cell_type": "code",
   "execution_count": 42,
   "id": "a9c6d122",
   "metadata": {},
   "outputs": [],
   "source": [
    "import pandas as pd\n",
    "import numpy as np\n",
    "import seaborn as sns\n",
    "import matplotlib.pyplot as plt"
   ]
  },
  {
   "cell_type": "code",
   "execution_count": 43,
   "id": "9c2f893b",
   "metadata": {
    "scrolled": false
   },
   "outputs": [
    {
     "data": {
      "text/html": [
       "<div>\n",
       "<style scoped>\n",
       "    .dataframe tbody tr th:only-of-type {\n",
       "        vertical-align: middle;\n",
       "    }\n",
       "\n",
       "    .dataframe tbody tr th {\n",
       "        vertical-align: top;\n",
       "    }\n",
       "\n",
       "    .dataframe thead th {\n",
       "        text-align: right;\n",
       "    }\n",
       "</style>\n",
       "<table border=\"1\" class=\"dataframe\">\n",
       "  <thead>\n",
       "    <tr style=\"text-align: right;\">\n",
       "      <th></th>\n",
       "      <th>Company</th>\n",
       "      <th>Age</th>\n",
       "      <th>Salary</th>\n",
       "      <th>Place</th>\n",
       "      <th>Country</th>\n",
       "      <th>Gender</th>\n",
       "    </tr>\n",
       "  </thead>\n",
       "  <tbody>\n",
       "    <tr>\n",
       "      <th>0</th>\n",
       "      <td>TCS</td>\n",
       "      <td>20.0</td>\n",
       "      <td>NaN</td>\n",
       "      <td>Chennai</td>\n",
       "      <td>India</td>\n",
       "      <td>0</td>\n",
       "    </tr>\n",
       "    <tr>\n",
       "      <th>1</th>\n",
       "      <td>Infosys</td>\n",
       "      <td>30.0</td>\n",
       "      <td>NaN</td>\n",
       "      <td>Mumbai</td>\n",
       "      <td>India</td>\n",
       "      <td>0</td>\n",
       "    </tr>\n",
       "    <tr>\n",
       "      <th>2</th>\n",
       "      <td>TCS</td>\n",
       "      <td>35.0</td>\n",
       "      <td>2300.0</td>\n",
       "      <td>Calcutta</td>\n",
       "      <td>India</td>\n",
       "      <td>0</td>\n",
       "    </tr>\n",
       "    <tr>\n",
       "      <th>3</th>\n",
       "      <td>Infosys</td>\n",
       "      <td>40.0</td>\n",
       "      <td>3000.0</td>\n",
       "      <td>Delhi</td>\n",
       "      <td>India</td>\n",
       "      <td>0</td>\n",
       "    </tr>\n",
       "    <tr>\n",
       "      <th>4</th>\n",
       "      <td>TCS</td>\n",
       "      <td>23.0</td>\n",
       "      <td>4000.0</td>\n",
       "      <td>Mumbai</td>\n",
       "      <td>India</td>\n",
       "      <td>0</td>\n",
       "    </tr>\n",
       "    <tr>\n",
       "      <th>...</th>\n",
       "      <td>...</td>\n",
       "      <td>...</td>\n",
       "      <td>...</td>\n",
       "      <td>...</td>\n",
       "      <td>...</td>\n",
       "      <td>...</td>\n",
       "    </tr>\n",
       "    <tr>\n",
       "      <th>143</th>\n",
       "      <td>TCS</td>\n",
       "      <td>33.0</td>\n",
       "      <td>9024.0</td>\n",
       "      <td>Calcutta</td>\n",
       "      <td>India</td>\n",
       "      <td>1</td>\n",
       "    </tr>\n",
       "    <tr>\n",
       "      <th>144</th>\n",
       "      <td>Infosys</td>\n",
       "      <td>22.0</td>\n",
       "      <td>8787.0</td>\n",
       "      <td>Calcutta</td>\n",
       "      <td>India</td>\n",
       "      <td>1</td>\n",
       "    </tr>\n",
       "    <tr>\n",
       "      <th>145</th>\n",
       "      <td>Infosys</td>\n",
       "      <td>44.0</td>\n",
       "      <td>4034.0</td>\n",
       "      <td>Delhi</td>\n",
       "      <td>India</td>\n",
       "      <td>1</td>\n",
       "    </tr>\n",
       "    <tr>\n",
       "      <th>146</th>\n",
       "      <td>TCS</td>\n",
       "      <td>33.0</td>\n",
       "      <td>5034.0</td>\n",
       "      <td>Mumbai</td>\n",
       "      <td>India</td>\n",
       "      <td>1</td>\n",
       "    </tr>\n",
       "    <tr>\n",
       "      <th>147</th>\n",
       "      <td>Infosys</td>\n",
       "      <td>22.0</td>\n",
       "      <td>8202.0</td>\n",
       "      <td>Cochin</td>\n",
       "      <td>India</td>\n",
       "      <td>0</td>\n",
       "    </tr>\n",
       "  </tbody>\n",
       "</table>\n",
       "<p>148 rows × 6 columns</p>\n",
       "</div>"
      ],
      "text/plain": [
       "     Company   Age  Salary     Place Country  Gender\n",
       "0        TCS  20.0     NaN   Chennai   India       0\n",
       "1    Infosys  30.0     NaN    Mumbai   India       0\n",
       "2        TCS  35.0  2300.0  Calcutta   India       0\n",
       "3    Infosys  40.0  3000.0     Delhi   India       0\n",
       "4        TCS  23.0  4000.0    Mumbai   India       0\n",
       "..       ...   ...     ...       ...     ...     ...\n",
       "143      TCS  33.0  9024.0  Calcutta   India       1\n",
       "144  Infosys  22.0  8787.0  Calcutta   India       1\n",
       "145  Infosys  44.0  4034.0     Delhi   India       1\n",
       "146      TCS  33.0  5034.0    Mumbai   India       1\n",
       "147  Infosys  22.0  8202.0    Cochin   India       0\n",
       "\n",
       "[148 rows x 6 columns]"
      ]
     },
     "execution_count": 43,
     "metadata": {},
     "output_type": "execute_result"
    }
   ],
   "source": [
    "df = pd.read_csv('E:\\ML\\Employee.csv')\n",
    "df\n"
   ]
  },
  {
   "cell_type": "markdown",
   "id": "8663783b",
   "metadata": {},
   "source": [
    " This dataset contains 148 rows and 6 columns. "
   ]
  },
  {
   "cell_type": "code",
   "execution_count": 44,
   "id": "36e6f3b6",
   "metadata": {
    "scrolled": true
   },
   "outputs": [
    {
     "name": "stdout",
     "output_type": "stream",
     "text": [
      "The shape of this dataset is  (148, 6)\n"
     ]
    }
   ],
   "source": [
    "print(\"The shape of this dataset is \",df.shape)"
   ]
  },
  {
   "cell_type": "code",
   "execution_count": 45,
   "id": "fe45e29c",
   "metadata": {},
   "outputs": [
    {
     "name": "stdout",
     "output_type": "stream",
     "text": [
      "No. of elements in this dataset is  888\n"
     ]
    }
   ],
   "source": [
    "print(\"No. of elements in this dataset is \",df.size)"
   ]
  },
  {
   "cell_type": "code",
   "execution_count": 46,
   "id": "03cafddf",
   "metadata": {
    "scrolled": false
   },
   "outputs": [
    {
     "name": "stdout",
     "output_type": "stream",
     "text": [
      "<class 'pandas.core.frame.DataFrame'>\n",
      "RangeIndex: 148 entries, 0 to 147\n",
      "Data columns (total 6 columns):\n",
      " #   Column   Non-Null Count  Dtype  \n",
      "---  ------   --------------  -----  \n",
      " 0   Company  140 non-null    object \n",
      " 1   Age      130 non-null    float64\n",
      " 2   Salary   124 non-null    float64\n",
      " 3   Place    134 non-null    object \n",
      " 4   Country  148 non-null    object \n",
      " 5   Gender   148 non-null    int64  \n",
      "dtypes: float64(2), int64(1), object(3)\n",
      "memory usage: 7.1+ KB\n"
     ]
    }
   ],
   "source": [
    "df.info()"
   ]
  },
  {
   "cell_type": "markdown",
   "id": "71f7d1d7",
   "metadata": {},
   "source": [
    "Using info() function we can understand more about the dataset. Except 'Country' and 'Gender' all other columns have null values. "
   ]
  },
  {
   "cell_type": "code",
   "execution_count": 47,
   "id": "538fa76d",
   "metadata": {
    "scrolled": false
   },
   "outputs": [
    {
     "name": "stdout",
     "output_type": "stream",
     "text": [
      "Name of column :  Company\n",
      "Unique values in the column  Company  : ['TCS' 'Infosys' 'CTS' nan 'Tata Consultancy Services' 'Congnizant'\n",
      " 'Infosys Pvt Lmt']\n",
      "Length of unique values in the column  Company  is  7\n",
      "\n",
      "\n",
      "Name of column :  Age\n",
      "Unique values in the column  Age  : [20. 30. 35. 40. 23. nan 34. 45. 18. 22. 32. 37. 50. 21. 46. 36. 26. 41.\n",
      " 24. 25. 43. 19. 38. 51. 31. 44. 33. 17.  0. 54.]\n",
      "Length of unique values in the column  Age  is  30\n",
      "\n",
      "\n",
      "Name of column :  Salary\n",
      "Unique values in the column  Salary  : [  nan 2300. 3000. 4000. 5000. 6000. 7000. 8000. 9000. 1089. 1234. 3030.\n",
      " 3045. 3184. 4824. 5835. 7084. 8943. 8345. 9284. 9876. 2034. 7654. 2934.\n",
      " 4034. 5034. 8202. 9024. 4345. 6544. 6543. 3234. 4324. 5435. 5555. 8787.\n",
      " 3454. 5654. 5009. 5098. 3033.]\n",
      "Length of unique values in the column  Salary  is  41\n",
      "\n",
      "\n",
      "Name of column :  Place\n",
      "Unique values in the column  Place  : ['Chennai' 'Mumbai' 'Calcutta' 'Delhi' 'Podicherry' 'Cochin' nan 'Noida'\n",
      " 'Hyderabad' 'Bhopal' 'Nagpur' 'Pune']\n",
      "Length of unique values in the column  Place  is  12\n",
      "\n",
      "\n",
      "Name of column :  Country\n",
      "Unique values in the column  Country  : ['India']\n",
      "Length of unique values in the column  Country  is  1\n",
      "\n",
      "\n",
      "Name of column :  Gender\n",
      "Unique values in the column  Gender  : [0 1]\n",
      "Length of unique values in the column  Gender  is  2\n",
      "\n",
      "\n"
     ]
    }
   ],
   "source": [
    "for i in df.columns:\n",
    "    print(\"Name of column : \",i)\n",
    "    print(\"Unique values in the column \",i ,\" :\",df[i].unique())\n",
    "    print(\"Length of unique values in the column \",i,\" is \" ,len(df[i].unique()))\n",
    "    print(\"\\n\")\n"
   ]
  },
  {
   "cell_type": "markdown",
   "id": "ae521b12",
   "metadata": {},
   "source": [
    "Here we are renaming Company names because 'Tata Consultancy Services'and 'TCS','Congnizant' and 'CTS','Infosys Pvt Lmt' and 'Infosys' are same."
   ]
  },
  {
   "cell_type": "code",
   "execution_count": 48,
   "id": "c54fba75",
   "metadata": {},
   "outputs": [
    {
     "name": "stdout",
     "output_type": "stream",
     "text": [
      "Renamed Company names and value counts \n",
      " Company\n",
      "TCS        55\n",
      "Infosys    47\n",
      "CTS        38\n",
      "Name: count, dtype: int64\n"
     ]
    }
   ],
   "source": [
    "df['Company'] = df['Company'].map({'Tata Consultancy Services':'TCS','Congnizant': 'CTS','Infosys Pvt Lmt': 'Infosys'}).fillna(df['Company'])\n",
    "print(\"Renamed Company names and value counts \\n\", df[\"Company\"].value_counts())\n"
   ]
  },
  {
   "cell_type": "markdown",
   "id": "9d30acff",
   "metadata": {},
   "source": [
    "I dropped column named 'Country' because there is only one unique column. So this column won't help to predict anything."
   ]
  },
  {
   "cell_type": "code",
   "execution_count": 49,
   "id": "9ed62a10",
   "metadata": {},
   "outputs": [],
   "source": [
    "df.drop(columns='Country',inplace=True)"
   ]
  },
  {
   "cell_type": "markdown",
   "id": "4bbc01cd",
   "metadata": {},
   "source": [
    "# Data Cleaning"
   ]
  },
  {
   "cell_type": "code",
   "execution_count": 50,
   "id": "fb1ae906",
   "metadata": {
    "scrolled": true
   },
   "outputs": [
    {
     "data": {
      "text/html": [
       "<div>\n",
       "<style scoped>\n",
       "    .dataframe tbody tr th:only-of-type {\n",
       "        vertical-align: middle;\n",
       "    }\n",
       "\n",
       "    .dataframe tbody tr th {\n",
       "        vertical-align: top;\n",
       "    }\n",
       "\n",
       "    .dataframe thead th {\n",
       "        text-align: right;\n",
       "    }\n",
       "</style>\n",
       "<table border=\"1\" class=\"dataframe\">\n",
       "  <thead>\n",
       "    <tr style=\"text-align: right;\">\n",
       "      <th></th>\n",
       "      <th>Company</th>\n",
       "      <th>Age</th>\n",
       "      <th>Salary</th>\n",
       "      <th>Place</th>\n",
       "      <th>Gender</th>\n",
       "    </tr>\n",
       "  </thead>\n",
       "  <tbody>\n",
       "    <tr>\n",
       "      <th>84</th>\n",
       "      <td>CTS</td>\n",
       "      <td>43.0</td>\n",
       "      <td>NaN</td>\n",
       "      <td>Mumbai</td>\n",
       "      <td>0</td>\n",
       "    </tr>\n",
       "    <tr>\n",
       "      <th>130</th>\n",
       "      <td>TCS</td>\n",
       "      <td>21.0</td>\n",
       "      <td>4824.0</td>\n",
       "      <td>Mumbai</td>\n",
       "      <td>0</td>\n",
       "    </tr>\n",
       "    <tr>\n",
       "      <th>131</th>\n",
       "      <td>Infosys</td>\n",
       "      <td>NaN</td>\n",
       "      <td>5835.0</td>\n",
       "      <td>Mumbai</td>\n",
       "      <td>0</td>\n",
       "    </tr>\n",
       "    <tr>\n",
       "      <th>144</th>\n",
       "      <td>Infosys</td>\n",
       "      <td>22.0</td>\n",
       "      <td>8787.0</td>\n",
       "      <td>Calcutta</td>\n",
       "      <td>1</td>\n",
       "    </tr>\n",
       "  </tbody>\n",
       "</table>\n",
       "</div>"
      ],
      "text/plain": [
       "     Company   Age  Salary     Place  Gender\n",
       "84       CTS  43.0     NaN    Mumbai       0\n",
       "130      TCS  21.0  4824.0    Mumbai       0\n",
       "131  Infosys   NaN  5835.0    Mumbai       0\n",
       "144  Infosys  22.0  8787.0  Calcutta       1"
      ]
     },
     "execution_count": 50,
     "metadata": {},
     "output_type": "execute_result"
    }
   ],
   "source": [
    "df[df.duplicated()]"
   ]
  },
  {
   "cell_type": "code",
   "execution_count": 51,
   "id": "3cdf21e8",
   "metadata": {},
   "outputs": [
    {
     "data": {
      "text/html": [
       "<div>\n",
       "<style scoped>\n",
       "    .dataframe tbody tr th:only-of-type {\n",
       "        vertical-align: middle;\n",
       "    }\n",
       "\n",
       "    .dataframe tbody tr th {\n",
       "        vertical-align: top;\n",
       "    }\n",
       "\n",
       "    .dataframe thead th {\n",
       "        text-align: right;\n",
       "    }\n",
       "</style>\n",
       "<table border=\"1\" class=\"dataframe\">\n",
       "  <thead>\n",
       "    <tr style=\"text-align: right;\">\n",
       "      <th></th>\n",
       "      <th>Company</th>\n",
       "      <th>Age</th>\n",
       "      <th>Salary</th>\n",
       "      <th>Place</th>\n",
       "      <th>Gender</th>\n",
       "    </tr>\n",
       "  </thead>\n",
       "  <tbody>\n",
       "  </tbody>\n",
       "</table>\n",
       "</div>"
      ],
      "text/plain": [
       "Empty DataFrame\n",
       "Columns: [Company, Age, Salary, Place, Gender]\n",
       "Index: []"
      ]
     },
     "execution_count": 51,
     "metadata": {},
     "output_type": "execute_result"
    }
   ],
   "source": [
    "df.drop_duplicates(inplace=True)\n",
    "df[df.duplicated()]"
   ]
  },
  {
   "cell_type": "markdown",
   "id": "6987af8e",
   "metadata": {},
   "source": [
    "Now dataset contains only 144 entries."
   ]
  },
  {
   "cell_type": "code",
   "execution_count": 52,
   "id": "d8ab8f7d",
   "metadata": {},
   "outputs": [
    {
     "name": "stdout",
     "output_type": "stream",
     "text": [
      "<class 'pandas.core.frame.DataFrame'>\n",
      "Index: 144 entries, 0 to 147\n",
      "Data columns (total 5 columns):\n",
      " #   Column   Non-Null Count  Dtype  \n",
      "---  ------   --------------  -----  \n",
      " 0   Company  136 non-null    object \n",
      " 1   Age      127 non-null    float64\n",
      " 2   Salary   121 non-null    float64\n",
      " 3   Place    130 non-null    object \n",
      " 4   Gender   144 non-null    int64  \n",
      "dtypes: float64(2), int64(1), object(2)\n",
      "memory usage: 6.8+ KB\n"
     ]
    }
   ],
   "source": [
    "df.info()"
   ]
  },
  {
   "cell_type": "code",
   "execution_count": 53,
   "id": "2e93d9de",
   "metadata": {
    "scrolled": true
   },
   "outputs": [
    {
     "data": {
      "text/html": [
       "<div>\n",
       "<style scoped>\n",
       "    .dataframe tbody tr th:only-of-type {\n",
       "        vertical-align: middle;\n",
       "    }\n",
       "\n",
       "    .dataframe tbody tr th {\n",
       "        vertical-align: top;\n",
       "    }\n",
       "\n",
       "    .dataframe thead th {\n",
       "        text-align: right;\n",
       "    }\n",
       "</style>\n",
       "<table border=\"1\" class=\"dataframe\">\n",
       "  <thead>\n",
       "    <tr style=\"text-align: right;\">\n",
       "      <th></th>\n",
       "      <th>Age</th>\n",
       "      <th>Salary</th>\n",
       "      <th>Gender</th>\n",
       "    </tr>\n",
       "  </thead>\n",
       "  <tbody>\n",
       "    <tr>\n",
       "      <th>count</th>\n",
       "      <td>127.000000</td>\n",
       "      <td>121.000000</td>\n",
       "      <td>144.000000</td>\n",
       "    </tr>\n",
       "    <tr>\n",
       "      <th>mean</th>\n",
       "      <td>30.527559</td>\n",
       "      <td>5283.471074</td>\n",
       "      <td>0.222222</td>\n",
       "    </tr>\n",
       "    <tr>\n",
       "      <th>std</th>\n",
       "      <td>11.114717</td>\n",
       "      <td>2585.373600</td>\n",
       "      <td>0.417191</td>\n",
       "    </tr>\n",
       "    <tr>\n",
       "      <th>min</th>\n",
       "      <td>0.000000</td>\n",
       "      <td>1089.000000</td>\n",
       "      <td>0.000000</td>\n",
       "    </tr>\n",
       "    <tr>\n",
       "      <th>25%</th>\n",
       "      <td>22.000000</td>\n",
       "      <td>3030.000000</td>\n",
       "      <td>0.000000</td>\n",
       "    </tr>\n",
       "    <tr>\n",
       "      <th>50%</th>\n",
       "      <td>33.000000</td>\n",
       "      <td>5000.000000</td>\n",
       "      <td>0.000000</td>\n",
       "    </tr>\n",
       "    <tr>\n",
       "      <th>75%</th>\n",
       "      <td>37.500000</td>\n",
       "      <td>8000.000000</td>\n",
       "      <td>0.000000</td>\n",
       "    </tr>\n",
       "    <tr>\n",
       "      <th>max</th>\n",
       "      <td>54.000000</td>\n",
       "      <td>9876.000000</td>\n",
       "      <td>1.000000</td>\n",
       "    </tr>\n",
       "  </tbody>\n",
       "</table>\n",
       "</div>"
      ],
      "text/plain": [
       "              Age       Salary      Gender\n",
       "count  127.000000   121.000000  144.000000\n",
       "mean    30.527559  5283.471074    0.222222\n",
       "std     11.114717  2585.373600    0.417191\n",
       "min      0.000000  1089.000000    0.000000\n",
       "25%     22.000000  3030.000000    0.000000\n",
       "50%     33.000000  5000.000000    0.000000\n",
       "75%     37.500000  8000.000000    0.000000\n",
       "max     54.000000  9876.000000    1.000000"
      ]
     },
     "execution_count": 53,
     "metadata": {},
     "output_type": "execute_result"
    }
   ],
   "source": [
    "df.describe()"
   ]
  },
  {
   "cell_type": "markdown",
   "id": "c3165bfb",
   "metadata": {},
   "source": [
    "# IQR "
   ]
  },
  {
   "cell_type": "code",
   "execution_count": 54,
   "id": "157fce4f",
   "metadata": {},
   "outputs": [
    {
     "name": "stdout",
     "output_type": "stream",
     "text": [
      "25 percentile = 22.0, 50 percentile = 33.0, 75 percentile = 37.5\n",
      "IQR =  15.5\n",
      "Lower Whisker = -1.25  Upper Whisker = 60.75\n"
     ]
    },
    {
     "data": {
      "text/html": [
       "<div>\n",
       "<style scoped>\n",
       "    .dataframe tbody tr th:only-of-type {\n",
       "        vertical-align: middle;\n",
       "    }\n",
       "\n",
       "    .dataframe tbody tr th {\n",
       "        vertical-align: top;\n",
       "    }\n",
       "\n",
       "    .dataframe thead th {\n",
       "        text-align: right;\n",
       "    }\n",
       "</style>\n",
       "<table border=\"1\" class=\"dataframe\">\n",
       "  <thead>\n",
       "    <tr style=\"text-align: right;\">\n",
       "      <th></th>\n",
       "      <th>Company</th>\n",
       "      <th>Age</th>\n",
       "      <th>Salary</th>\n",
       "      <th>Place</th>\n",
       "      <th>Gender</th>\n",
       "    </tr>\n",
       "  </thead>\n",
       "  <tbody>\n",
       "  </tbody>\n",
       "</table>\n",
       "</div>"
      ],
      "text/plain": [
       "Empty DataFrame\n",
       "Columns: [Company, Age, Salary, Place, Gender]\n",
       "Index: []"
      ]
     },
     "execution_count": 54,
     "metadata": {},
     "output_type": "execute_result"
    }
   ],
   "source": [
    "q1,q2,q3=df.Age.quantile([0.25,0.50,0.75]) #Q1,Q2,Q3\n",
    "print(\"25 percentile = {}, 50 percentile = {}, 75 percentile = {}\".format(q1,q2,q3))\n",
    "IQR=q3-q1\n",
    "print(\"IQR = \",IQR)\n",
    "LW=q1-1.5*IQR # Lower Whisker\n",
    "UW=q3+1.5*IQR # Upper Whisker\n",
    "print(\"Lower Whisker = {}  Upper Whisker = {}\".format(LW,UW ))\n",
    "df[(df[\"Age\"]<LW)|(df[\"Age\"]>UW)]"
   ]
  },
  {
   "cell_type": "code",
   "execution_count": 55,
   "id": "2af0800a",
   "metadata": {},
   "outputs": [
    {
     "name": "stdout",
     "output_type": "stream",
     "text": [
      "25 percentile = 3030.0, 50 percentile = 5000.0, 75 percentile = 8000.0\n",
      "IQR =  4970.0\n",
      "Lower Whisker = -4425.0  Upper Whisker = 15455.0\n"
     ]
    },
    {
     "data": {
      "text/html": [
       "<div>\n",
       "<style scoped>\n",
       "    .dataframe tbody tr th:only-of-type {\n",
       "        vertical-align: middle;\n",
       "    }\n",
       "\n",
       "    .dataframe tbody tr th {\n",
       "        vertical-align: top;\n",
       "    }\n",
       "\n",
       "    .dataframe thead th {\n",
       "        text-align: right;\n",
       "    }\n",
       "</style>\n",
       "<table border=\"1\" class=\"dataframe\">\n",
       "  <thead>\n",
       "    <tr style=\"text-align: right;\">\n",
       "      <th></th>\n",
       "      <th>Company</th>\n",
       "      <th>Age</th>\n",
       "      <th>Salary</th>\n",
       "      <th>Place</th>\n",
       "      <th>Gender</th>\n",
       "    </tr>\n",
       "  </thead>\n",
       "  <tbody>\n",
       "  </tbody>\n",
       "</table>\n",
       "</div>"
      ],
      "text/plain": [
       "Empty DataFrame\n",
       "Columns: [Company, Age, Salary, Place, Gender]\n",
       "Index: []"
      ]
     },
     "execution_count": 55,
     "metadata": {},
     "output_type": "execute_result"
    }
   ],
   "source": [
    "q1,q2,q3=df.Salary.quantile([0.25,0.50,0.75]) #Q1,Q2,Q3\n",
    "print(\"25 percentile = {}, 50 percentile = {}, 75 percentile = {}\".format(q1,q2,q3))\n",
    "IQR=q3-q1\n",
    "print(\"IQR = \",IQR)\n",
    "LW=q1-1.5*IQR # Lower Whisker\n",
    "UW=q3+1.5*IQR # Upper Whisker\n",
    "print(\"Lower Whisker = {}  Upper Whisker = {}\".format(LW,UW ))\n",
    "df[(df[\"Salary\"]<LW)|(df[\"Salary\"]>UW)]"
   ]
  },
  {
   "cell_type": "markdown",
   "id": "b9cc157a",
   "metadata": {},
   "source": [
    "No outliers found."
   ]
  },
  {
   "cell_type": "markdown",
   "id": "1021af0c",
   "metadata": {},
   "source": [
    "Replace the value 0 in age as NaN using replace() function."
   ]
  },
  {
   "cell_type": "code",
   "execution_count": 56,
   "id": "32aba61a",
   "metadata": {},
   "outputs": [
    {
     "name": "stdout",
     "output_type": "stream",
     "text": [
      "     Company  Age  Salary       Place  Gender\n",
      "88   Infosys  0.0  3030.0    Calcutta       0\n",
      "92       TCS  0.0  3045.0       Delhi       0\n",
      "101      CTS  0.0  2034.0  Podicherry       0\n",
      "107      TCS  0.0  9024.0     Chennai       1\n",
      "111  Infosys  0.0  3234.0      Mumbai       0\n",
      "121      CTS  0.0  1234.0    Calcutta       0\n"
     ]
    }
   ],
   "source": [
    "print(df[df.Age==0])\n",
    "df['Age'].replace(0,np.nan, inplace=True)\n"
   ]
  },
  {
   "cell_type": "code",
   "execution_count": 57,
   "id": "324ef443",
   "metadata": {
    "scrolled": true
   },
   "outputs": [
    {
     "name": "stdout",
     "output_type": "stream",
     "text": [
      "<class 'pandas.core.frame.DataFrame'>\n",
      "Index: 144 entries, 0 to 147\n",
      "Data columns (total 5 columns):\n",
      " #   Column   Non-Null Count  Dtype  \n",
      "---  ------   --------------  -----  \n",
      " 0   Company  136 non-null    object \n",
      " 1   Age      121 non-null    float64\n",
      " 2   Salary   121 non-null    float64\n",
      " 3   Place    130 non-null    object \n",
      " 4   Gender   144 non-null    int64  \n",
      "dtypes: float64(2), int64(1), object(2)\n",
      "memory usage: 6.8+ KB\n"
     ]
    }
   ],
   "source": [
    "df.info()"
   ]
  },
  {
   "cell_type": "markdown",
   "id": "22fda44d",
   "metadata": {},
   "source": [
    "# Filling the null values."
   ]
  },
  {
   "cell_type": "code",
   "execution_count": 41,
   "id": "a7041d32",
   "metadata": {},
   "outputs": [
    {
     "data": {
      "text/html": [
       "<div>\n",
       "<style scoped>\n",
       "    .dataframe tbody tr th:only-of-type {\n",
       "        vertical-align: middle;\n",
       "    }\n",
       "\n",
       "    .dataframe tbody tr th {\n",
       "        vertical-align: top;\n",
       "    }\n",
       "\n",
       "    .dataframe thead th {\n",
       "        text-align: right;\n",
       "    }\n",
       "</style>\n",
       "<table border=\"1\" class=\"dataframe\">\n",
       "  <thead>\n",
       "    <tr style=\"text-align: right;\">\n",
       "      <th></th>\n",
       "      <th>Age</th>\n",
       "      <th>Salary</th>\n",
       "      <th>Gender</th>\n",
       "    </tr>\n",
       "  </thead>\n",
       "  <tbody>\n",
       "    <tr>\n",
       "      <th>count</th>\n",
       "      <td>121.000000</td>\n",
       "      <td>121.000000</td>\n",
       "      <td>144.000000</td>\n",
       "    </tr>\n",
       "    <tr>\n",
       "      <th>mean</th>\n",
       "      <td>32.041322</td>\n",
       "      <td>5283.471074</td>\n",
       "      <td>0.222222</td>\n",
       "    </tr>\n",
       "    <tr>\n",
       "      <th>std</th>\n",
       "      <td>8.989250</td>\n",
       "      <td>2585.373600</td>\n",
       "      <td>0.417191</td>\n",
       "    </tr>\n",
       "    <tr>\n",
       "      <th>min</th>\n",
       "      <td>17.000000</td>\n",
       "      <td>1089.000000</td>\n",
       "      <td>0.000000</td>\n",
       "    </tr>\n",
       "    <tr>\n",
       "      <th>25%</th>\n",
       "      <td>23.000000</td>\n",
       "      <td>3030.000000</td>\n",
       "      <td>0.000000</td>\n",
       "    </tr>\n",
       "    <tr>\n",
       "      <th>50%</th>\n",
       "      <td>33.000000</td>\n",
       "      <td>5000.000000</td>\n",
       "      <td>0.000000</td>\n",
       "    </tr>\n",
       "    <tr>\n",
       "      <th>75%</th>\n",
       "      <td>40.000000</td>\n",
       "      <td>8000.000000</td>\n",
       "      <td>0.000000</td>\n",
       "    </tr>\n",
       "    <tr>\n",
       "      <th>max</th>\n",
       "      <td>54.000000</td>\n",
       "      <td>9876.000000</td>\n",
       "      <td>1.000000</td>\n",
       "    </tr>\n",
       "  </tbody>\n",
       "</table>\n",
       "</div>"
      ],
      "text/plain": [
       "              Age       Salary      Gender\n",
       "count  121.000000   121.000000  144.000000\n",
       "mean    32.041322  5283.471074    0.222222\n",
       "std      8.989250  2585.373600    0.417191\n",
       "min     17.000000  1089.000000    0.000000\n",
       "25%     23.000000  3030.000000    0.000000\n",
       "50%     33.000000  5000.000000    0.000000\n",
       "75%     40.000000  8000.000000    0.000000\n",
       "max     54.000000  9876.000000    1.000000"
      ]
     },
     "execution_count": 41,
     "metadata": {},
     "output_type": "execute_result"
    }
   ],
   "source": [
    "df.describe()"
   ]
  },
  {
   "cell_type": "code",
   "execution_count": 58,
   "id": "e0a4f962",
   "metadata": {
    "scrolled": true
   },
   "outputs": [
    {
     "name": "stdout",
     "output_type": "stream",
     "text": [
      "<class 'pandas.core.frame.DataFrame'>\n",
      "Index: 144 entries, 0 to 147\n",
      "Data columns (total 5 columns):\n",
      " #   Column   Non-Null Count  Dtype  \n",
      "---  ------   --------------  -----  \n",
      " 0   Company  144 non-null    object \n",
      " 1   Age      144 non-null    float64\n",
      " 2   Salary   144 non-null    float64\n",
      " 3   Place    144 non-null    object \n",
      " 4   Gender   144 non-null    int64  \n",
      "dtypes: float64(2), int64(1), object(2)\n",
      "memory usage: 6.8+ KB\n",
      "None\n"
     ]
    }
   ],
   "source": [
    "df=df.fillna(value={'Company':'Unknown','Place':\"Unknown\",'Salary':df.Salary.mean(),'Age':df.Age.mean()})\n",
    "print(df.info())\n"
   ]
  },
  {
   "cell_type": "markdown",
   "id": "ae9cedeb",
   "metadata": {},
   "source": [
    "Now this dataset contains no null values."
   ]
  },
  {
   "cell_type": "markdown",
   "id": "8bb1dde0",
   "metadata": {},
   "source": [
    "# Data Analysis"
   ]
  },
  {
   "cell_type": "markdown",
   "id": "d438ab59",
   "metadata": {},
   "source": [
    "Filter the data with age >40 and salary<5000"
   ]
  },
  {
   "cell_type": "code",
   "execution_count": 59,
   "id": "3ad53ba3",
   "metadata": {
    "scrolled": true
   },
   "outputs": [
    {
     "data": {
      "text/html": [
       "<div>\n",
       "<style scoped>\n",
       "    .dataframe tbody tr th:only-of-type {\n",
       "        vertical-align: middle;\n",
       "    }\n",
       "\n",
       "    .dataframe tbody tr th {\n",
       "        vertical-align: top;\n",
       "    }\n",
       "\n",
       "    .dataframe thead th {\n",
       "        text-align: right;\n",
       "    }\n",
       "</style>\n",
       "<table border=\"1\" class=\"dataframe\">\n",
       "  <thead>\n",
       "    <tr style=\"text-align: right;\">\n",
       "      <th></th>\n",
       "      <th>Company</th>\n",
       "      <th>Age</th>\n",
       "      <th>Salary</th>\n",
       "      <th>Place</th>\n",
       "      <th>Gender</th>\n",
       "    </tr>\n",
       "  </thead>\n",
       "  <tbody>\n",
       "    <tr>\n",
       "      <th>21</th>\n",
       "      <td>Infosys</td>\n",
       "      <td>50.0</td>\n",
       "      <td>3184.0</td>\n",
       "      <td>Delhi</td>\n",
       "      <td>0</td>\n",
       "    </tr>\n",
       "    <tr>\n",
       "      <th>32</th>\n",
       "      <td>Infosys</td>\n",
       "      <td>45.0</td>\n",
       "      <td>4034.0</td>\n",
       "      <td>Calcutta</td>\n",
       "      <td>0</td>\n",
       "    </tr>\n",
       "    <tr>\n",
       "      <th>39</th>\n",
       "      <td>Infosys</td>\n",
       "      <td>41.0</td>\n",
       "      <td>3000.0</td>\n",
       "      <td>Mumbai</td>\n",
       "      <td>0</td>\n",
       "    </tr>\n",
       "    <tr>\n",
       "      <th>50</th>\n",
       "      <td>Infosys</td>\n",
       "      <td>41.0</td>\n",
       "      <td>3000.0</td>\n",
       "      <td>Chennai</td>\n",
       "      <td>0</td>\n",
       "    </tr>\n",
       "    <tr>\n",
       "      <th>57</th>\n",
       "      <td>Infosys</td>\n",
       "      <td>51.0</td>\n",
       "      <td>3184.0</td>\n",
       "      <td>Hyderabad</td>\n",
       "      <td>0</td>\n",
       "    </tr>\n",
       "    <tr>\n",
       "      <th>68</th>\n",
       "      <td>Infosys</td>\n",
       "      <td>43.0</td>\n",
       "      <td>4034.0</td>\n",
       "      <td>Mumbai</td>\n",
       "      <td>0</td>\n",
       "    </tr>\n",
       "    <tr>\n",
       "      <th>75</th>\n",
       "      <td>Infosys</td>\n",
       "      <td>44.0</td>\n",
       "      <td>3000.0</td>\n",
       "      <td>Cochin</td>\n",
       "      <td>0</td>\n",
       "    </tr>\n",
       "    <tr>\n",
       "      <th>86</th>\n",
       "      <td>Infosys</td>\n",
       "      <td>41.0</td>\n",
       "      <td>3000.0</td>\n",
       "      <td>Delhi</td>\n",
       "      <td>0</td>\n",
       "    </tr>\n",
       "    <tr>\n",
       "      <th>93</th>\n",
       "      <td>Infosys</td>\n",
       "      <td>54.0</td>\n",
       "      <td>3184.0</td>\n",
       "      <td>Mumbai</td>\n",
       "      <td>0</td>\n",
       "    </tr>\n",
       "    <tr>\n",
       "      <th>104</th>\n",
       "      <td>Infosys</td>\n",
       "      <td>44.0</td>\n",
       "      <td>4034.0</td>\n",
       "      <td>Delhi</td>\n",
       "      <td>0</td>\n",
       "    </tr>\n",
       "    <tr>\n",
       "      <th>122</th>\n",
       "      <td>Infosys</td>\n",
       "      <td>44.0</td>\n",
       "      <td>3234.0</td>\n",
       "      <td>Mumbai</td>\n",
       "      <td>0</td>\n",
       "    </tr>\n",
       "    <tr>\n",
       "      <th>129</th>\n",
       "      <td>Infosys</td>\n",
       "      <td>50.0</td>\n",
       "      <td>3184.0</td>\n",
       "      <td>Calcutta</td>\n",
       "      <td>0</td>\n",
       "    </tr>\n",
       "    <tr>\n",
       "      <th>138</th>\n",
       "      <td>CTS</td>\n",
       "      <td>44.0</td>\n",
       "      <td>3033.0</td>\n",
       "      <td>Cochin</td>\n",
       "      <td>0</td>\n",
       "    </tr>\n",
       "    <tr>\n",
       "      <th>140</th>\n",
       "      <td>Infosys</td>\n",
       "      <td>44.0</td>\n",
       "      <td>4034.0</td>\n",
       "      <td>Hyderabad</td>\n",
       "      <td>0</td>\n",
       "    </tr>\n",
       "    <tr>\n",
       "      <th>145</th>\n",
       "      <td>Infosys</td>\n",
       "      <td>44.0</td>\n",
       "      <td>4034.0</td>\n",
       "      <td>Delhi</td>\n",
       "      <td>1</td>\n",
       "    </tr>\n",
       "  </tbody>\n",
       "</table>\n",
       "</div>"
      ],
      "text/plain": [
       "     Company   Age  Salary      Place  Gender\n",
       "21   Infosys  50.0  3184.0      Delhi       0\n",
       "32   Infosys  45.0  4034.0   Calcutta       0\n",
       "39   Infosys  41.0  3000.0     Mumbai       0\n",
       "50   Infosys  41.0  3000.0    Chennai       0\n",
       "57   Infosys  51.0  3184.0  Hyderabad       0\n",
       "68   Infosys  43.0  4034.0     Mumbai       0\n",
       "75   Infosys  44.0  3000.0     Cochin       0\n",
       "86   Infosys  41.0  3000.0      Delhi       0\n",
       "93   Infosys  54.0  3184.0     Mumbai       0\n",
       "104  Infosys  44.0  4034.0      Delhi       0\n",
       "122  Infosys  44.0  3234.0     Mumbai       0\n",
       "129  Infosys  50.0  3184.0   Calcutta       0\n",
       "138      CTS  44.0  3033.0     Cochin       0\n",
       "140  Infosys  44.0  4034.0  Hyderabad       0\n",
       "145  Infosys  44.0  4034.0      Delhi       1"
      ]
     },
     "execution_count": 59,
     "metadata": {},
     "output_type": "execute_result"
    }
   ],
   "source": [
    "df[(df.Age>40)&(df.Salary<5000)]"
   ]
  },
  {
   "cell_type": "markdown",
   "id": "ecedf1ad",
   "metadata": {},
   "source": [
    "Plot the chart with age and salary"
   ]
  },
  {
   "cell_type": "code",
   "execution_count": 60,
   "id": "705f452c",
   "metadata": {},
   "outputs": [
    {
     "data": {
      "image/png": "[encoded data removed]",
      "text/plain": [
       "<Figure size 640x480 with 1 Axes>"
      ]
     },
     "metadata": {},
     "output_type": "display_data"
    }
   ],
   "source": [
    "plt.bar(df.Age,df.Salary)\n",
    "plt.show()"
   ]
  },
  {
   "cell_type": "markdown",
   "id": "f3344191",
   "metadata": {},
   "source": [
    "Count the number of people from each place and represent it visually"
   ]
  },
  {
   "cell_type": "code",
   "execution_count": 61,
   "id": "cef7062c",
   "metadata": {
    "scrolled": true
   },
   "outputs": [
    {
     "data": {
      "text/plain": [
       "<Axes: xlabel='count', ylabel='Place'>"
      ]
     },
     "execution_count": 61,
     "metadata": {},
     "output_type": "execute_result"
    },
    {
     "data": {
      "image/png": "[encoded data removed]",
      "text/plain": [
       "<Figure size 640x480 with 1 Axes>"
      ]
     },
     "metadata": {},
     "output_type": "display_data"
    }
   ],
   "source": [
    "sns.countplot(y = 'Place', data = df, palette = 'viridis')"
   ]
  },
  {
   "cell_type": "markdown",
   "id": "1986ba35",
   "metadata": {},
   "source": [
    "# Data Encoding"
   ]
  },
  {
   "cell_type": "code",
   "execution_count": 62,
   "id": "4ce1847b",
   "metadata": {},
   "outputs": [
    {
     "name": "stdout",
     "output_type": "stream",
     "text": [
      "      Age       Salary  Gender  Company_CTS  Company_Infosys  Company_TCS  \\\n",
      "0    20.0  5283.471074       0        False            False         True   \n",
      "1    30.0  5283.471074       0        False             True        False   \n",
      "2    35.0  2300.000000       0        False            False         True   \n",
      "3    40.0  3000.000000       0        False             True        False   \n",
      "4    23.0  4000.000000       0        False            False         True   \n",
      "..    ...          ...     ...          ...              ...          ...   \n",
      "142  22.0  8202.000000       0        False             True        False   \n",
      "143  33.0  9024.000000       1        False            False         True   \n",
      "145  44.0  4034.000000       1        False             True        False   \n",
      "146  33.0  5034.000000       1        False            False         True   \n",
      "147  22.0  8202.000000       0        False             True        False   \n",
      "\n",
      "     Company_Unknown  Place_Bhopal  Place_Calcutta  Place_Chennai  \\\n",
      "0              False         False           False           True   \n",
      "1              False         False           False          False   \n",
      "2              False         False            True          False   \n",
      "3              False         False           False          False   \n",
      "4              False         False           False          False   \n",
      "..               ...           ...             ...            ...   \n",
      "142            False         False           False          False   \n",
      "143            False         False            True          False   \n",
      "145            False         False           False          False   \n",
      "146            False         False           False          False   \n",
      "147            False         False           False          False   \n",
      "\n",
      "     Place_Cochin  Place_Delhi  Place_Hyderabad  Place_Mumbai  Place_Nagpur  \\\n",
      "0           False        False            False         False         False   \n",
      "1           False        False            False          True         False   \n",
      "2           False        False            False         False         False   \n",
      "3           False         True            False         False         False   \n",
      "4           False        False            False          True         False   \n",
      "..            ...          ...              ...           ...           ...   \n",
      "142         False        False            False          True         False   \n",
      "143         False        False            False         False         False   \n",
      "145         False         True            False         False         False   \n",
      "146         False        False            False          True         False   \n",
      "147          True        False            False         False         False   \n",
      "\n",
      "     Place_Noida  Place_Podicherry  Place_Pune  Place_Unknown  \n",
      "0          False             False       False          False  \n",
      "1          False             False       False          False  \n",
      "2          False             False       False          False  \n",
      "3          False             False       False          False  \n",
      "4          False             False       False          False  \n",
      "..           ...               ...         ...            ...  \n",
      "142        False             False       False          False  \n",
      "143        False             False       False          False  \n",
      "145        False             False       False          False  \n",
      "146        False             False       False          False  \n",
      "147        False             False       False          False  \n",
      "\n",
      "[144 rows x 19 columns]\n"
     ]
    }
   ],
   "source": [
    "df_one_hot_encoded = pd.get_dummies(data = df, columns = [\"Company\", \"Place\"])\n",
    "\n",
    "print(df_one_hot_encoded )"
   ]
  },
  {
   "cell_type": "markdown",
   "id": "c178aa1c",
   "metadata": {},
   "source": [
    "# # One hot Encoding"
   ]
  },
  {
   "cell_type": "code",
   "execution_count": 67,
   "id": "7ddb377a",
   "metadata": {},
   "outputs": [
    {
     "name": "stdout",
     "output_type": "stream",
     "text": [
      "     Company   Age       Salary  Place  Gender  is_0  is_1  is_2  is_3  is_0  \\\n",
      "0          2  20.0  5283.471074      2       0   0.0   0.0   1.0   0.0   0.0   \n",
      "1          1  30.0  5283.471074      6       0   0.0   1.0   0.0   0.0   0.0   \n",
      "2          2  35.0  2300.000000      1       0   0.0   0.0   1.0   0.0   0.0   \n",
      "3          1  40.0  3000.000000      4       0   0.0   1.0   0.0   0.0   0.0   \n",
      "4          2  23.0  4000.000000      6       0   0.0   0.0   1.0   0.0   0.0   \n",
      "..       ...   ...          ...    ...     ...   ...   ...   ...   ...   ...   \n",
      "142        1  22.0  8202.000000      6       0   0.0   0.0   1.0   0.0   0.0   \n",
      "143        2  33.0  9024.000000      1       1   0.0   1.0   0.0   0.0   0.0   \n",
      "145        1  44.0  4034.000000      4       1   NaN   NaN   NaN   NaN   NaN   \n",
      "146        2  33.0  5034.000000      6       1   NaN   NaN   NaN   NaN   NaN   \n",
      "147        1  22.0  8202.000000      3       0   NaN   NaN   NaN   NaN   NaN   \n",
      "\n",
      "     ...  is_2  is_3  is_4  is_5  is_6  is_7  is_8  is_9  is_10  is_11  \n",
      "0    ...   1.0   0.0   0.0   0.0   0.0   0.0   0.0   0.0    0.0    0.0  \n",
      "1    ...   0.0   0.0   0.0   0.0   1.0   0.0   0.0   0.0    0.0    0.0  \n",
      "2    ...   0.0   0.0   0.0   0.0   0.0   0.0   0.0   0.0    0.0    0.0  \n",
      "3    ...   0.0   0.0   1.0   0.0   0.0   0.0   0.0   0.0    0.0    0.0  \n",
      "4    ...   0.0   0.0   0.0   0.0   1.0   0.0   0.0   0.0    0.0    0.0  \n",
      "..   ...   ...   ...   ...   ...   ...   ...   ...   ...    ...    ...  \n",
      "142  ...   0.0   0.0   0.0   0.0   1.0   0.0   0.0   0.0    0.0    0.0  \n",
      "143  ...   0.0   1.0   0.0   0.0   0.0   0.0   0.0   0.0    0.0    0.0  \n",
      "145  ...   NaN   NaN   NaN   NaN   NaN   NaN   NaN   NaN    NaN    NaN  \n",
      "146  ...   NaN   NaN   NaN   NaN   NaN   NaN   NaN   NaN    NaN    NaN  \n",
      "147  ...   NaN   NaN   NaN   NaN   NaN   NaN   NaN   NaN    NaN    NaN  \n",
      "\n",
      "[144 rows x 21 columns]\n"
     ]
    },
    {
     "name": "stderr",
     "output_type": "stream",
     "text": [
      "C:\\Users\\Mathew\\AppData\\Local\\Programs\\Python\\Python311\\Lib\\site-packages\\sklearn\\preprocessing\\_encoders.py:975: FutureWarning: `sparse` was renamed to `sparse_output` in version 1.2 and will be removed in 1.4. `sparse_output` is ignored unless you leave `sparse` to its default value.\n",
      "  warnings.warn(\n"
     ]
    }
   ],
   "source": [
    "from sklearn.preprocessing import OneHotEncoder\n",
    "\n",
    "cols_to_encode = [\"Company\", \"Place\"]\n",
    "new_encoded_cols_names = []\n",
    "for col in cols_to_encode:\n",
    "    new_encoded_cols_names += [f\"is_{category}\" for category in df[col].sort_values().unique().tolist()]\n",
    "\n",
    "one_hot_encoder = OneHotEncoder(sparse = False, handle_unknown = 'ignore')\n",
    "\n",
    "encoded_cols = one_hot_encoder.fit_transform(df[cols_to_encode])\n",
    "\n",
    "df_encoded = pd.DataFrame(encoded_cols, columns = new_encoded_cols_names)\n",
    "df_one_hot_encoded = df.join(df_encoded)\n",
    "print(df_one_hot_encoded)"
   ]
  },
  {
   "cell_type": "markdown",
   "id": "270d399b",
   "metadata": {},
   "source": [
    "## Label Encoding"
   ]
  },
  {
   "cell_type": "code",
   "execution_count": 68,
   "id": "363cf2a0",
   "metadata": {},
   "outputs": [
    {
     "data": {
      "text/html": [
       "<div>\n",
       "<style scoped>\n",
       "    .dataframe tbody tr th:only-of-type {\n",
       "        vertical-align: middle;\n",
       "    }\n",
       "\n",
       "    .dataframe tbody tr th {\n",
       "        vertical-align: top;\n",
       "    }\n",
       "\n",
       "    .dataframe thead th {\n",
       "        text-align: right;\n",
       "    }\n",
       "</style>\n",
       "<table border=\"1\" class=\"dataframe\">\n",
       "  <thead>\n",
       "    <tr style=\"text-align: right;\">\n",
       "      <th></th>\n",
       "      <th>Company</th>\n",
       "      <th>Age</th>\n",
       "      <th>Salary</th>\n",
       "      <th>Place</th>\n",
       "      <th>Gender</th>\n",
       "    </tr>\n",
       "  </thead>\n",
       "  <tbody>\n",
       "    <tr>\n",
       "      <th>0</th>\n",
       "      <td>2</td>\n",
       "      <td>20.0</td>\n",
       "      <td>5283.471074</td>\n",
       "      <td>2</td>\n",
       "      <td>0</td>\n",
       "    </tr>\n",
       "    <tr>\n",
       "      <th>1</th>\n",
       "      <td>1</td>\n",
       "      <td>30.0</td>\n",
       "      <td>5283.471074</td>\n",
       "      <td>6</td>\n",
       "      <td>0</td>\n",
       "    </tr>\n",
       "    <tr>\n",
       "      <th>2</th>\n",
       "      <td>2</td>\n",
       "      <td>35.0</td>\n",
       "      <td>2300.000000</td>\n",
       "      <td>1</td>\n",
       "      <td>0</td>\n",
       "    </tr>\n",
       "    <tr>\n",
       "      <th>3</th>\n",
       "      <td>1</td>\n",
       "      <td>40.0</td>\n",
       "      <td>3000.000000</td>\n",
       "      <td>4</td>\n",
       "      <td>0</td>\n",
       "    </tr>\n",
       "    <tr>\n",
       "      <th>4</th>\n",
       "      <td>2</td>\n",
       "      <td>23.0</td>\n",
       "      <td>4000.000000</td>\n",
       "      <td>6</td>\n",
       "      <td>0</td>\n",
       "    </tr>\n",
       "    <tr>\n",
       "      <th>...</th>\n",
       "      <td>...</td>\n",
       "      <td>...</td>\n",
       "      <td>...</td>\n",
       "      <td>...</td>\n",
       "      <td>...</td>\n",
       "    </tr>\n",
       "    <tr>\n",
       "      <th>142</th>\n",
       "      <td>1</td>\n",
       "      <td>22.0</td>\n",
       "      <td>8202.000000</td>\n",
       "      <td>6</td>\n",
       "      <td>0</td>\n",
       "    </tr>\n",
       "    <tr>\n",
       "      <th>143</th>\n",
       "      <td>2</td>\n",
       "      <td>33.0</td>\n",
       "      <td>9024.000000</td>\n",
       "      <td>1</td>\n",
       "      <td>1</td>\n",
       "    </tr>\n",
       "    <tr>\n",
       "      <th>145</th>\n",
       "      <td>1</td>\n",
       "      <td>44.0</td>\n",
       "      <td>4034.000000</td>\n",
       "      <td>4</td>\n",
       "      <td>1</td>\n",
       "    </tr>\n",
       "    <tr>\n",
       "      <th>146</th>\n",
       "      <td>2</td>\n",
       "      <td>33.0</td>\n",
       "      <td>5034.000000</td>\n",
       "      <td>6</td>\n",
       "      <td>1</td>\n",
       "    </tr>\n",
       "    <tr>\n",
       "      <th>147</th>\n",
       "      <td>1</td>\n",
       "      <td>22.0</td>\n",
       "      <td>8202.000000</td>\n",
       "      <td>3</td>\n",
       "      <td>0</td>\n",
       "    </tr>\n",
       "  </tbody>\n",
       "</table>\n",
       "<p>144 rows × 5 columns</p>\n",
       "</div>"
      ],
      "text/plain": [
       "     Company   Age       Salary  Place  Gender\n",
       "0          2  20.0  5283.471074      2       0\n",
       "1          1  30.0  5283.471074      6       0\n",
       "2          2  35.0  2300.000000      1       0\n",
       "3          1  40.0  3000.000000      4       0\n",
       "4          2  23.0  4000.000000      6       0\n",
       "..       ...   ...          ...    ...     ...\n",
       "142        1  22.0  8202.000000      6       0\n",
       "143        2  33.0  9024.000000      1       1\n",
       "145        1  44.0  4034.000000      4       1\n",
       "146        2  33.0  5034.000000      6       1\n",
       "147        1  22.0  8202.000000      3       0\n",
       "\n",
       "[144 rows x 5 columns]"
      ]
     },
     "execution_count": 68,
     "metadata": {},
     "output_type": "execute_result"
    }
   ],
   "source": [
    "from sklearn.preprocessing import LabelEncoder\n",
    "label_encoder = LabelEncoder()\n",
    "\n",
    "for i in df[[\"Company\",\"Place\"]]:\n",
    "    df[i] = label_encoder.fit_transform(df[i])\n",
    "df"
   ]
  },
  {
   "cell_type": "markdown",
   "id": "37bb5ea7",
   "metadata": {},
   "source": [
    "# Scaling"
   ]
  },
  {
   "cell_type": "markdown",
   "id": "c5832c46",
   "metadata": {},
   "source": [
    "## Standard Scaler"
   ]
  },
  {
   "cell_type": "code",
   "execution_count": 65,
   "id": "bee1ecff",
   "metadata": {},
   "outputs": [
    {
     "name": "stdout",
     "output_type": "stream",
     "text": [
      "[[ 0.86 -1.47  0.   -0.85 -0.53]\n",
      " [-0.26 -0.25  0.    0.43 -0.53]\n",
      " [ 0.86  0.36 -1.26 -1.16 -0.53]\n",
      " [-0.26  0.97 -0.97 -0.21 -0.53]\n",
      " [ 0.86 -1.1  -0.54  0.43 -0.53]\n",
      " [-0.26  0.   -0.12 -1.16 -0.53]\n",
      " [ 0.86  0.    0.3  -0.85  1.87]\n",
      " [-0.26 -1.1   0.73  0.43  1.87]\n",
      " [ 0.86  0.24  1.15 -1.16  1.87]\n",
      " [-1.37  1.58  1.57 -0.21 -0.53]\n",
      " [-1.37 -1.1   0.    0.43 -0.53]\n",
      " [-1.37  0.24 -1.78 -1.16 -0.53]\n",
      " [-1.37  1.58  0.   -0.85 -0.53]\n",
      " [-1.37 -1.71 -1.72  0.43 -0.53]\n",
      " [-0.26  0.97 -0.97 -1.16 -0.53]\n",
      " [ 0.86 -1.1  -0.97 -0.21 -0.53]\n",
      " [-0.26 -1.1  -0.95  1.38 -0.53]\n",
      " [ 0.86  0.24 -0.12 -0.53 -0.53]\n",
      " [ 0.86 -1.22  0.   -0.85 -0.53]\n",
      " [-0.26 -0.01  0.    0.43 -0.53]\n",
      " [ 0.86  0.6  -0.95 -1.16 -0.53]\n",
      " [-0.26  2.19 -0.89 -0.21 -0.53]\n",
      " [ 0.86 -1.35 -0.19  0.43 -0.53]\n",
      " [-0.26  0.    0.23 -0.53 -0.53]\n",
      " [ 0.86  0.    0.76 -0.85  1.87]\n",
      " [-0.26 -1.1   1.55  0.43  1.87]\n",
      " [ 0.86  0.24  1.3  -1.16  1.87]\n",
      " [-1.37  1.58  1.7  -0.21  1.87]\n",
      " [-1.37 -1.1   1.95  0.43  1.87]\n",
      " [-1.37  0.36 -1.38 -0.53 -0.53]\n",
      " [-1.37  1.7   1.   -0.85 -0.53]\n",
      " [-1.37 -1.47 -1.    0.43 -0.53]\n",
      " [-0.26  1.58 -0.53 -1.16 -0.53]\n",
      " [ 0.86  0.48 -0.11  2.02 -0.53]\n",
      " [-0.26 -0.74  1.24  2.02 -0.53]\n",
      " [ 0.86  0.36  1.58  2.02  1.87]\n",
      " [ 0.86 -0.01  0.    1.06 -0.53]\n",
      " [ 1.98  0.36  0.    0.11 -0.53]\n",
      " [ 0.86  0.24 -1.26 -1.16 -0.53]\n",
      " [-0.26  1.09 -0.97  0.43 -0.53]\n",
      " [ 0.86 -0.98 -0.4  -1.16 -0.53]\n",
      " [-0.26  0.   -0.12  2.02 -0.53]\n",
      " [ 0.86  0.    0.3   2.02 -0.53]\n",
      " [-0.26 -0.86  0.73  2.02 -0.53]\n",
      " [ 0.86  0.36  1.15  1.06  1.87]\n",
      " [-1.37  1.7   1.57  0.11  1.87]\n",
      " [-1.37 -0.98  0.   -1.16 -0.53]\n",
      " [-1.37 -0.01 -1.78  0.43 -0.53]\n",
      " [-1.37  1.34  0.    0.43 -0.53]\n",
      " [-1.37 -1.59 -1.72 -0.53 -0.53]\n",
      " [-0.26  1.09 -0.97 -0.85 -0.53]\n",
      " [ 1.98 -0.98 -0.97  0.43 -0.53]\n",
      " [-0.26 -1.35 -0.95 -1.16 -0.53]\n",
      " [ 0.86  0.36 -0.12 -0.21 -0.53]\n",
      " [ 0.86 -1.35  0.53  0.43 -0.53]\n",
      " [-0.26 -0.01  1.   -0.53 -0.53]\n",
      " [ 0.86  0.73 -0.95  1.06 -0.53]\n",
      " [-0.26  2.31 -0.89  0.11 -0.53]\n",
      " [ 0.86 -1.1  -0.19 -1.16 -0.53]\n",
      " [-0.26  0.    0.23  0.43 -0.53]\n",
      " [ 0.86  0.    0.76 -1.16 -0.53]\n",
      " [ 1.98 -0.86  1.55  2.02  1.87]\n",
      " [ 0.86  0.48  1.3   2.02  1.87]\n",
      " [-1.37  1.09  1.7   2.02  1.87]\n",
      " [ 1.98 -0.86  0.53  1.06 -0.53]\n",
      " [-1.37 -0.13 -1.38  0.11 -0.53]\n",
      " [-1.37  1.09  0.   -1.16 -0.53]\n",
      " [-1.37 -1.35 -1.    0.43 -0.53]\n",
      " [-0.26  1.34 -0.53  0.43 -0.53]\n",
      " [ 0.86 -0.01 -0.11 -0.53 -0.53]\n",
      " [-0.26 -1.35  1.24 -0.85 -0.53]\n",
      " [ 0.86  0.24  1.58  0.43  1.87]\n",
      " [ 0.86 -0.98  0.   -1.16 -0.53]\n",
      " [-0.26  0.24  0.   -0.21 -0.53]\n",
      " [ 0.86  0.6  -1.26  0.43 -0.53]\n",
      " [-0.26  1.46 -0.97 -0.53 -0.53]\n",
      " [ 0.86 -0.01 -0.54  1.06 -0.53]\n",
      " [-0.26  0.   -0.12  0.11 -0.53]\n",
      " [ 0.86  0.    0.3  -1.16 -0.53]\n",
      " [-0.26 -0.74  0.73 -1.48 -0.53]\n",
      " [ 0.86 -0.01  1.15  0.74 -0.53]\n",
      " [-1.37  1.34  1.57  1.7   1.87]\n",
      " [-1.37 -1.22  0.    1.7  -0.53]\n",
      " [-1.37  0.12 -1.78 -0.85 -0.53]\n",
      " [-1.37 -1.83 -1.72 -1.16 -0.53]\n",
      " [-0.26  1.09 -0.97 -0.21 -0.53]\n",
      " [ 0.86 -1.35 -0.97  0.43 -0.53]\n",
      " [-0.26  0.   -0.95 -1.16 -0.53]\n",
      " [ 0.86  0.48 -0.12 -0.85 -0.53]\n",
      " [ 0.86 -1.35  0.    0.43 -0.53]\n",
      " [-0.26  0.24  0.   -1.16 -0.53]\n",
      " [ 0.86  0.   -0.95 -0.21 -0.53]\n",
      " [-0.26  2.68 -0.89  0.43 -0.53]\n",
      " [ 0.86 -1.22 -0.19 -1.16 -0.53]\n",
      " [-0.26  0.    0.23 -0.85 -0.53]\n",
      " [ 0.86  0.    0.76  0.43  1.87]\n",
      " [-0.26 -1.22  1.55 -1.16  1.87]\n",
      " [ 0.86  0.12  1.3  -0.21  1.87]\n",
      " [-1.37  1.46  1.7   1.38  1.87]\n",
      " [-1.37 -1.22  0.   -0.53 -0.53]\n",
      " [-1.37  0.   -1.38  1.38 -0.53]\n",
      " [-1.37  1.46  0.    0.43 -0.53]\n",
      " [-1.37 -1.22 -1.   -1.16 -0.53]\n",
      " [-0.26  1.46 -0.53 -0.21 -0.53]\n",
      " [ 0.86  0.12 -0.11  0.43 -0.53]\n",
      " [-0.26 -1.22  1.24 -0.53  1.87]\n",
      " [ 0.86  0.    1.58 -0.85  1.87]\n",
      " [ 0.86  0.12  0.    0.43 -0.53]\n",
      " [ 1.98  0.12  0.   -1.16 -0.53]\n",
      " [ 0.86  0.12 -1.26 -0.21 -0.53]\n",
      " [-0.26  0.   -0.87  0.43 -0.53]\n",
      " [ 0.86 -1.22 -0.41 -0.53 -0.53]\n",
      " [-0.26  0.    0.06 -0.85 -0.53]\n",
      " [ 0.86  0.    0.12  0.43 -0.53]\n",
      " [-0.26 -1.22  1.48 -1.16 -0.53]\n",
      " [ 0.86  0.12  1.48  2.02  1.87]\n",
      " [-1.37  1.46  1.95  2.02  1.87]\n",
      " [-1.37 -1.22  0.    2.02 -0.53]\n",
      " [-1.37  0.12 -1.78  1.06 -0.53]\n",
      " [-1.37  1.46  0.    0.11 -0.53]\n",
      " [-1.37  0.   -1.72 -1.16 -0.53]\n",
      " [-0.26  1.46 -0.87  0.43 -0.53]\n",
      " [ 1.98  0.   -0.78 -1.16 -0.53]\n",
      " [-0.26 -1.22  1.48 -1.16  1.87]\n",
      " [ 0.86  0.12  0.16  2.02  1.87]\n",
      " [ 0.86 -1.47 -0.12  2.02  1.87]\n",
      " [-0.26 -0.25 -0.08  1.06 -0.53]\n",
      " [ 0.86  0.12 -0.95  0.11 -0.53]\n",
      " [-0.26  2.19 -0.89 -1.16 -0.53]\n",
      " [ 0.86  0.    0.76 -0.53  1.87]\n",
      " [ 1.98 -1.22  1.55 -0.85 -0.53]\n",
      " [ 0.86 -0.13  1.3   0.43 -0.53]\n",
      " [-1.37  0.97  1.7  -1.16  1.87]\n",
      " [ 1.98  0.    0.   -0.21 -0.53]\n",
      " [-1.37 -0.13 -1.38  0.43 -0.53]\n",
      " [-1.37  1.46 -0.95 -0.53 -0.53]\n",
      " [-1.37 -1.22 -1.    1.06 -0.53]\n",
      " [-0.26  1.46 -0.53  0.11 -0.53]\n",
      " [ 0.86  0.12 -0.11 -1.16 -0.53]\n",
      " [-0.26 -1.22  1.24  0.43 -0.53]\n",
      " [ 0.86  0.12  1.58 -1.16  1.87]\n",
      " [-0.26  1.46 -0.53 -0.21  1.87]\n",
      " [ 0.86  0.12 -0.11  0.43  1.87]\n",
      " [-0.26 -1.22  1.24 -0.53 -0.53]]\n"
     ]
    }
   ],
   "source": [
    "from sklearn.preprocessing import StandardScaler\n",
    "\n",
    "\n",
    "# Create a scaler object\n",
    "scaler = StandardScaler()\n",
    "\n",
    "# Fit the scaler on the data\n",
    "scaler.fit(df)\n",
    "\n",
    "# Transform the data\n",
    "scaled_data = scaler.transform(df)\n",
    "\n",
    "# Print the scaled data\n",
    "print(scaled_data.round(2))"
   ]
  },
  {
   "cell_type": "markdown",
   "id": "f19f892c",
   "metadata": {},
   "source": [
    "## MinMax Scaler "
   ]
  },
  {
   "cell_type": "code",
   "execution_count": 69,
   "id": "34368f09",
   "metadata": {},
   "outputs": [
    {
     "name": "stdout",
     "output_type": "stream",
     "text": [
      "[[0.7 0.1 0.5 0.2 0. ]\n",
      " [0.3 0.4 0.5 0.5 0. ]\n",
      " [0.7 0.5 0.1 0.1 0. ]\n",
      " [0.3 0.6 0.2 0.4 0. ]\n",
      " [0.7 0.2 0.3 0.5 0. ]\n",
      " [0.3 0.4 0.4 0.1 0. ]\n",
      " [0.7 0.4 0.6 0.2 1. ]\n",
      " [0.3 0.2 0.7 0.5 1. ]\n",
      " [0.7 0.5 0.8 0.1 1. ]\n",
      " [0.  0.8 0.9 0.4 0. ]\n",
      " [0.  0.2 0.5 0.5 0. ]\n",
      " [0.  0.5 0.  0.1 0. ]\n",
      " [0.  0.8 0.5 0.2 0. ]\n",
      " [0.  0.  0.  0.5 0. ]\n",
      " [0.3 0.6 0.2 0.1 0. ]\n",
      " [0.7 0.2 0.2 0.4 0. ]\n",
      " [0.3 0.2 0.2 0.8 0. ]\n",
      " [0.7 0.5 0.4 0.3 0. ]\n",
      " [0.7 0.1 0.5 0.2 0. ]\n",
      " [0.3 0.4 0.5 0.5 0. ]\n",
      " [0.7 0.5 0.2 0.1 0. ]\n",
      " [0.3 0.9 0.2 0.4 0. ]\n",
      " [0.7 0.1 0.4 0.5 0. ]\n",
      " [0.3 0.4 0.5 0.3 0. ]\n",
      " [0.7 0.4 0.7 0.2 1. ]\n",
      " [0.3 0.2 0.9 0.5 1. ]\n",
      " [0.7 0.5 0.8 0.1 1. ]\n",
      " [0.  0.8 0.9 0.4 1. ]\n",
      " [0.  0.2 1.  0.5 1. ]\n",
      " [0.  0.5 0.1 0.3 0. ]\n",
      " [0.  0.8 0.7 0.2 0. ]\n",
      " [0.  0.1 0.2 0.5 0. ]\n",
      " [0.3 0.8 0.3 0.1 0. ]\n",
      " [0.7 0.5 0.4 1.  0. ]\n",
      " [0.3 0.2 0.8 1.  0. ]\n",
      " [0.7 0.5 0.9 1.  1. ]\n",
      " [0.7 0.4 0.5 0.7 0. ]\n",
      " [1.  0.5 0.5 0.5 0. ]\n",
      " [0.7 0.5 0.1 0.1 0. ]\n",
      " [0.3 0.6 0.2 0.5 0. ]\n",
      " [0.7 0.2 0.4 0.1 0. ]\n",
      " [0.3 0.4 0.4 1.  0. ]\n",
      " [0.7 0.4 0.6 1.  0. ]\n",
      " [0.3 0.2 0.7 1.  0. ]\n",
      " [0.7 0.5 0.8 0.7 1. ]\n",
      " [0.  0.8 0.9 0.5 1. ]\n",
      " [0.  0.2 0.5 0.1 0. ]\n",
      " [0.  0.4 0.  0.5 0. ]\n",
      " [0.  0.7 0.5 0.5 0. ]\n",
      " [0.  0.1 0.  0.3 0. ]\n",
      " [0.3 0.6 0.2 0.2 0. ]\n",
      " [1.  0.2 0.2 0.5 0. ]\n",
      " [0.3 0.1 0.2 0.1 0. ]\n",
      " [0.7 0.5 0.4 0.4 0. ]\n",
      " [0.7 0.1 0.6 0.5 0. ]\n",
      " [0.3 0.4 0.7 0.3 0. ]\n",
      " [0.7 0.6 0.2 0.7 0. ]\n",
      " [0.3 0.9 0.2 0.5 0. ]\n",
      " [0.7 0.2 0.4 0.1 0. ]\n",
      " [0.3 0.4 0.5 0.5 0. ]\n",
      " [0.7 0.4 0.7 0.1 0. ]\n",
      " [1.  0.2 0.9 1.  1. ]\n",
      " [0.7 0.5 0.8 1.  1. ]\n",
      " [0.  0.6 0.9 1.  1. ]\n",
      " [1.  0.2 0.6 0.7 0. ]\n",
      " [0.  0.4 0.1 0.5 0. ]\n",
      " [0.  0.6 0.5 0.1 0. ]\n",
      " [0.  0.1 0.2 0.5 0. ]\n",
      " [0.3 0.7 0.3 0.5 0. ]\n",
      " [0.7 0.4 0.4 0.3 0. ]\n",
      " [0.3 0.1 0.8 0.2 0. ]\n",
      " [0.7 0.5 0.9 0.5 1. ]\n",
      " [0.7 0.2 0.5 0.1 0. ]\n",
      " [0.3 0.5 0.5 0.4 0. ]\n",
      " [0.7 0.5 0.1 0.5 0. ]\n",
      " [0.3 0.7 0.2 0.3 0. ]\n",
      " [0.7 0.4 0.3 0.7 0. ]\n",
      " [0.3 0.4 0.4 0.5 0. ]\n",
      " [0.7 0.4 0.6 0.1 0. ]\n",
      " [0.3 0.2 0.7 0.  0. ]\n",
      " [0.7 0.4 0.8 0.6 0. ]\n",
      " [0.  0.7 0.9 0.9 1. ]\n",
      " [0.  0.1 0.5 0.9 0. ]\n",
      " [0.  0.4 0.  0.2 0. ]\n",
      " [0.  0.  0.  0.1 0. ]\n",
      " [0.3 0.6 0.2 0.4 0. ]\n",
      " [0.7 0.1 0.2 0.5 0. ]\n",
      " [0.3 0.4 0.2 0.1 0. ]\n",
      " [0.7 0.5 0.4 0.2 0. ]\n",
      " [0.7 0.1 0.5 0.5 0. ]\n",
      " [0.3 0.5 0.5 0.1 0. ]\n",
      " [0.7 0.4 0.2 0.4 0. ]\n",
      " [0.3 1.  0.2 0.5 0. ]\n",
      " [0.7 0.1 0.4 0.1 0. ]\n",
      " [0.3 0.4 0.5 0.2 0. ]\n",
      " [0.7 0.4 0.7 0.5 1. ]\n",
      " [0.3 0.1 0.9 0.1 1. ]\n",
      " [0.7 0.4 0.8 0.4 1. ]\n",
      " [0.  0.7 0.9 0.8 1. ]\n",
      " [0.  0.1 0.5 0.3 0. ]\n",
      " [0.  0.4 0.1 0.8 0. ]\n",
      " [0.  0.7 0.5 0.5 0. ]\n",
      " [0.  0.1 0.2 0.1 0. ]\n",
      " [0.3 0.7 0.3 0.4 0. ]\n",
      " [0.7 0.4 0.4 0.5 0. ]\n",
      " [0.3 0.1 0.8 0.3 1. ]\n",
      " [0.7 0.4 0.9 0.2 1. ]\n",
      " [0.7 0.4 0.5 0.5 0. ]\n",
      " [1.  0.4 0.5 0.1 0. ]\n",
      " [0.7 0.4 0.1 0.4 0. ]\n",
      " [0.3 0.4 0.2 0.5 0. ]\n",
      " [0.7 0.1 0.4 0.3 0. ]\n",
      " [0.3 0.4 0.5 0.2 0. ]\n",
      " [0.7 0.4 0.5 0.5 0. ]\n",
      " [0.3 0.1 0.9 0.1 0. ]\n",
      " [0.7 0.4 0.9 1.  1. ]\n",
      " [0.  0.7 1.  1.  1. ]\n",
      " [0.  0.1 0.5 1.  0. ]\n",
      " [0.  0.4 0.  0.7 0. ]\n",
      " [0.  0.7 0.5 0.5 0. ]\n",
      " [0.  0.4 0.  0.1 0. ]\n",
      " [0.3 0.7 0.2 0.5 0. ]\n",
      " [1.  0.4 0.3 0.1 0. ]\n",
      " [0.3 0.1 0.9 0.1 1. ]\n",
      " [0.7 0.4 0.5 1.  1. ]\n",
      " [0.7 0.1 0.4 1.  1. ]\n",
      " [0.3 0.4 0.5 0.7 0. ]\n",
      " [0.7 0.4 0.2 0.5 0. ]\n",
      " [0.3 0.9 0.2 0.1 0. ]\n",
      " [0.7 0.4 0.7 0.3 1. ]\n",
      " [1.  0.1 0.9 0.2 0. ]\n",
      " [0.7 0.4 0.8 0.5 0. ]\n",
      " [0.  0.6 0.9 0.1 1. ]\n",
      " [1.  0.4 0.5 0.4 0. ]\n",
      " [0.  0.4 0.1 0.5 0. ]\n",
      " [0.  0.7 0.2 0.3 0. ]\n",
      " [0.  0.1 0.2 0.7 0. ]\n",
      " [0.3 0.7 0.3 0.5 0. ]\n",
      " [0.7 0.4 0.4 0.1 0. ]\n",
      " [0.3 0.1 0.8 0.5 0. ]\n",
      " [0.7 0.4 0.9 0.1 1. ]\n",
      " [0.3 0.7 0.3 0.4 1. ]\n",
      " [0.7 0.4 0.4 0.5 1. ]\n",
      " [0.3 0.1 0.8 0.3 0. ]]\n"
     ]
    }
   ],
   "source": [
    "from sklearn.preprocessing import MinMaxScaler\n",
    "\n",
    "\n",
    "# Create a scaler object\n",
    "scaler = MinMaxScaler()\n",
    "\n",
    "# Fit the scaler on the data\n",
    "scaler.fit(df)\n",
    "\n",
    "# Transform the data\n",
    "scaled_data = scaler.transform(df)\n",
    "\n",
    "# Print the scaled data\n",
    "print(scaled_data.round(1))"
   ]
  }
 ],
 "metadata": {
  "kernelspec": {
   "display_name": "Python 3 (ipykernel)",
   "language": "python",
   "name": "python3"
  },
  "language_info": {
   "codemirror_mode": {
    "name": "ipython",
    "version": 3
   },
   "file_extension": ".py",
   "mimetype": "text/x-python",
   "name": "python",
   "nbconvert_exporter": "python",
   "pygments_lexer": "ipython3",
   "version": "3.11.2"
  }
 },
 "nbformat": 4,
 "nbformat_minor": 5
}
